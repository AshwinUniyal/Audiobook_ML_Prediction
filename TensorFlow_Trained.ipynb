{
 "cells": [
  {
   "cell_type": "markdown",
   "metadata": {},
   "source": [
    "# Audiobooks business case"
   ]
  },
  {
   "cell_type": "markdown",
   "metadata": {},
   "source": [
    "## Preprocess the data. Balance the dataset. Create 3 datasets: training, validation, and test. Save the newly created sets in a tensor friendly format (e.g. *.npz)\n",
    "\n",
    "Since we are dealing with real life data, we will need to preprocess it a bit before training the model.\n"
   ]
  },
  {
   "cell_type": "markdown",
   "metadata": {},
   "source": [
    "### Extract the data from the csv"
   ]
  },
  {
   "cell_type": "code",
   "execution_count": 15,
   "metadata": {},
   "outputs": [],
   "source": [
    "import numpy as np\n",
    "import pandas as pd\n",
    "import tensorflow as tf\n",
    "from sklearn.preprocessing import StandardScaler\n",
    "from sklearn import preprocessing\n",
    "\n",
    "\n",
    "raw_csv_data = np.loadtxt('Audiobooks_data.csv', delimiter = ',')\n",
    "\n",
    "unscaled_inputs_all = raw_csv_data[:,1:-1]\n",
    "\n",
    "targets_all = raw_csv_data[:,-1]"
   ]
  },
  {
   "cell_type": "markdown",
   "metadata": {},
   "source": [
    "### Balance the dataset"
   ]
  },
  {
   "cell_type": "code",
   "execution_count": 2,
   "metadata": {},
   "outputs": [],
   "source": [
    "num_one_targets = int(np.sum(targets_all))\n",
    "zero_targets_counter = 0\n",
    "indices_to_remove = []\n",
    "\n",
    "for i in range(targets_all.shape[0]):\n",
    "    if targets_all[i] ==0:\n",
    "        zero_targets_counter += 1\n",
    "        if zero_targets_counter > num_one_targets:\n",
    "            indices_to_remove.append(i)\n",
    "            \n",
    "unscaled_inputs_equal_priors = np.delete(unscaled_inputs_all, indices_to_remove, axis = 0)\n",
    "targets_equal_priors = np.delete (targets_all, indices_to_remove, axis=0)"
   ]
  },
  {
   "cell_type": "markdown",
   "metadata": {},
   "source": [
    "### Standardize the inputs"
   ]
  },
  {
   "cell_type": "code",
   "execution_count": 3,
   "metadata": {},
   "outputs": [],
   "source": [
    "scaler = StandardScaler()\n",
    "# scaled_inputs = preprocessing.scale(unscaled_inputs_equal_priors)\n",
    "scaled_inputs = scaler.fit_transform(unscaled_inputs_equal_priors)"
   ]
  },
  {
   "cell_type": "markdown",
   "metadata": {},
   "source": [
    "### Shuffle the data"
   ]
  },
  {
   "cell_type": "code",
   "execution_count": 4,
   "metadata": {},
   "outputs": [],
   "source": [
    "\n",
    "shuffled_indices = np.arange(scaled_inputs.shape[0])\n",
    "\n",
    "np.random.shuffle(shuffled_indices)\n",
    "shuffled_inputs = scaled_inputs[shuffled_indices]\n",
    "shuffled_targets = targets_equal_priors[shuffled_indices]\n",
    "\n",
    "\n"
   ]
  },
  {
   "cell_type": "markdown",
   "metadata": {},
   "source": [
    "### Split the dataset into train, validation, and test"
   ]
  },
  {
   "cell_type": "code",
   "execution_count": 5,
   "metadata": {},
   "outputs": [
    {
     "name": "stdout",
     "output_type": "stream",
     "text": [
      "1754.0 3579 0.49008102822017324\n",
      "234.0 447 0.5234899328859061\n",
      "249.0 448 0.5558035714285714\n"
     ]
    }
   ],
   "source": [
    "samples_count = shuffled_inputs.shape[0]\n",
    "\n",
    "train_samples_count = int(0.8*samples_count)\n",
    "validation_samples_count = int(0.1*samples_count)\n",
    "test_samples_count = samples_count - train_samples_count - validation_samples_count\n",
    "\n",
    "train_inputs = shuffled_inputs[:train_samples_count]\n",
    "train_targets = shuffled_targets[:train_samples_count]\n",
    "\n",
    "validation_inputs = shuffled_inputs[train_samples_count:train_samples_count+validation_samples_count]\n",
    "validation_targets = shuffled_targets[train_samples_count:train_samples_count+validation_samples_count]\n",
    "\n",
    "test_inputs = shuffled_inputs[train_samples_count+validation_samples_count:]\n",
    "test_targets = shuffled_targets[train_samples_count+validation_samples_count:]\n",
    "\n",
    "print(np.sum(train_targets), train_samples_count, np.sum(train_targets) / train_samples_count)\n",
    "print(np.sum(validation_targets), validation_samples_count, np.sum(validation_targets) / validation_samples_count)\n",
    "print(np.sum(test_targets), test_samples_count, np.sum(test_targets) / test_samples_count)"
   ]
  },
  {
   "cell_type": "markdown",
   "metadata": {},
   "source": [
    "### Save the three datasets in *.npz"
   ]
  },
  {
   "cell_type": "code",
   "execution_count": 6,
   "metadata": {},
   "outputs": [],
   "source": [
    "# np.savez('Audiobooks_data_train', inputs=train_inputs, targets=train_targets)\n",
    "# np.savez('Audiobooks_data_validation', inputs=validation_inputs, targets=validation_targets)\n",
    "# np.savez('Audiobooks_data_test', inputs=test_inputs, targets=test_targets)"
   ]
  },
  {
   "cell_type": "code",
   "execution_count": 7,
   "metadata": {},
   "outputs": [],
   "source": [
    "# npz = np.load('Audiobooks_data_train.npz')\n",
    "# train_inputs = npz['inputs'].astype(np.float32)\n",
    "# tarin_targets = npz['targets'].astype(np.int64)\n",
    "\n",
    "# npz = np.load('Audiobooks_data_validation.npz')\n",
    "# validation_inputs = npz['inputs'].astype(np.float32)\n",
    "# validation_targets= npz['targets'].astype(np.int64)\n",
    "\n",
    "# npz= np.load('Audiobooks_data_test.npz')\n",
    "# test_inputs = npz['inputs'].astype(np.float32)\n",
    "# test_targets=npz['targets'].astype(np.int64)"
   ]
  },
  {
   "cell_type": "markdown",
   "metadata": {},
   "source": [
    "## Learning"
   ]
  },
  {
   "cell_type": "code",
   "execution_count": 8,
   "metadata": {},
   "outputs": [
    {
     "name": "stdout",
     "output_type": "stream",
     "text": [
      "Epoch 1/10\n",
      "36/36 - 1s - loss: 0.6937 - accuracy: 0.5099 - val_loss: 0.6956 - val_accuracy: 0.4765 - 1s/epoch - 36ms/step\n",
      "Epoch 2/10\n",
      "36/36 - 0s - loss: 0.6904 - accuracy: 0.5099 - val_loss: 0.6909 - val_accuracy: 0.4765 - 79ms/epoch - 2ms/step\n",
      "Epoch 3/10\n",
      "36/36 - 0s - loss: 0.6861 - accuracy: 0.5099 - val_loss: 0.6844 - val_accuracy: 0.4765 - 78ms/epoch - 2ms/step\n",
      "Epoch 4/10\n",
      "36/36 - 0s - loss: 0.6788 - accuracy: 0.5099 - val_loss: 0.6744 - val_accuracy: 0.7830 - 86ms/epoch - 2ms/step\n",
      "Epoch 5/10\n",
      "36/36 - 0s - loss: 0.6671 - accuracy: 0.8997 - val_loss: 0.6601 - val_accuracy: 0.9172 - 85ms/epoch - 2ms/step\n",
      "Epoch 6/10\n",
      "36/36 - 0s - loss: 0.6511 - accuracy: 0.9058 - val_loss: 0.6405 - val_accuracy: 0.9217 - 110ms/epoch - 3ms/step\n",
      "Epoch 7/10\n",
      "36/36 - 0s - loss: 0.6311 - accuracy: 0.9067 - val_loss: 0.6196 - val_accuracy: 0.9105 - 105ms/epoch - 3ms/step\n",
      "Epoch 8/10\n",
      "36/36 - 0s - loss: 0.6083 - accuracy: 0.9075 - val_loss: 0.5946 - val_accuracy: 0.9150 - 91ms/epoch - 3ms/step\n",
      "Epoch 9/10\n",
      "36/36 - 0s - loss: 0.5841 - accuracy: 0.9084 - val_loss: 0.5661 - val_accuracy: 0.9306 - 85ms/epoch - 2ms/step\n",
      "Epoch 10/10\n",
      "36/36 - 0s - loss: 0.5582 - accuracy: 0.9120 - val_loss: 0.5420 - val_accuracy: 0.9217 - 83ms/epoch - 2ms/step\n"
     ]
    },
    {
     "data": {
      "text/plain": [
       "<keras.callbacks.History at 0x1d1642123d0>"
      ]
     },
     "execution_count": 8,
     "metadata": {},
     "output_type": "execute_result"
    }
   ],
   "source": [
    "# input_size=10\n",
    "output_size=2\n",
    "hidden_layer_size=100\n",
    "\n",
    "model = tf.keras.Sequential([\n",
    "                            \n",
    "    tf.keras.layers.Dense(hidden_layer_size, activation='relu'),\n",
    "    tf.keras.layers.Dense(hidden_layer_size, activation='relu'),\n",
    "    tf.keras.layers.Dense(hidden_layer_size, activation='relu'),\n",
    "    tf.keras.layers.Dense(output_size, activation='softmax'),\n",
    "    tf.keras.layers.Dense(output_size, activation='softmax'),\n",
    "    tf.keras.layers.Dense(output_size, activation='softmax')\n",
    "    \n",
    "                            ])\n",
    "\n",
    "model.compile(optimizer='adam', loss='sparse_categorical_crossentropy', metrics=['accuracy'])\n",
    "\n",
    "batch_size=100\n",
    "max_epochs = 10\n",
    "early_stopping = tf.keras.callbacks.EarlyStopping(patience=2)\n",
    "\n",
    "model.fit( train_inputs,\n",
    "         train_targets,\n",
    "         batch_size=batch_size,\n",
    "         epochs=max_epochs,\n",
    "          callbacks = [early_stopping],\n",
    "         validation_data = (validation_inputs, validation_targets),\n",
    "         verbose=2)"
   ]
  },
  {
   "cell_type": "markdown",
   "metadata": {},
   "source": [
    "## Testing the model"
   ]
  },
  {
   "cell_type": "code",
   "execution_count": 9,
   "metadata": {},
   "outputs": [
    {
     "name": "stdout",
     "output_type": "stream",
     "text": [
      "14/14 [==============================] - 0s 2ms/step - loss: 0.5566 - accuracy: 0.8884\n"
     ]
    }
   ],
   "source": [
    "test_loss, test_accuracy = model.evaluate(test_inputs, test_targets)"
   ]
  },
  {
   "cell_type": "code",
   "execution_count": 10,
   "metadata": {},
   "outputs": [
    {
     "name": "stdout",
     "output_type": "stream",
     "text": [
      "\n",
      "Test loss: 0.5566. Test accuracy: 88.8393%\n"
     ]
    }
   ],
   "source": [
    "print('\\nTest loss: {0:.4f}. Test accuracy: {1:.4f}%'.format(test_loss, test_accuracy*100.))"
   ]
  },
  {
   "cell_type": "code",
   "execution_count": 11,
   "metadata": {
    "scrolled": true
   },
   "outputs": [
    {
     "data": {
      "text/plain": [
       "array([[0.40696865, 0.59303135],\n",
       "       [0.4069686 , 0.5930314 ],\n",
       "       [0.40697646, 0.59302354],\n",
       "       [0.4069686 , 0.5930314 ],\n",
       "       [0.4069686 , 0.5930314 ],\n",
       "       [0.60852164, 0.3914784 ],\n",
       "       [0.60852164, 0.3914784 ],\n",
       "       [0.40696865, 0.59303135],\n",
       "       [0.60852164, 0.3914784 ],\n",
       "       [0.40697107, 0.59302896]], dtype=float32)"
      ]
     },
     "execution_count": 11,
     "metadata": {},
     "output_type": "execute_result"
    }
   ],
   "source": [
    "model.predict(test_inputs[:10])"
   ]
  },
  {
   "cell_type": "code",
   "execution_count": 12,
   "metadata": {},
   "outputs": [],
   "source": [
    "df=pd.read_csv(\"Audiobooks_data.csv\")"
   ]
  },
  {
   "cell_type": "markdown",
   "metadata": {},
   "source": [
    "## Predicting"
   ]
  },
  {
   "cell_type": "code",
   "execution_count": 17,
   "metadata": {},
   "outputs": [
    {
     "name": "stdout",
     "output_type": "stream",
     "text": [
      "[0]\n"
     ]
    }
   ],
   "source": [
    "new_inputs = [[1620, 810, 5.87, 5.87, 0, 5, 0, 1, 0, 253]]\n",
    "scaled = scaler.fit_transform(new_inputs)\n",
    "\n",
    "num = np.argmax(model.predict(scaled), axis=-1)\n",
    "print(num)   "
   ]
  }
 ],
 "metadata": {
  "kernelspec": {
   "display_name": "Python 3 (ipykernel)",
   "language": "python",
   "name": "python3"
  },
  "language_info": {
   "codemirror_mode": {
    "name": "ipython",
    "version": 3
   },
   "file_extension": ".py",
   "mimetype": "text/x-python",
   "name": "python",
   "nbconvert_exporter": "python",
   "pygments_lexer": "ipython3",
   "version": "3.8.12"
  }
 },
 "nbformat": 4,
 "nbformat_minor": 2
}
